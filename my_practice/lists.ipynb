{
 "cells": [
  {
   "cell_type": "markdown",
   "metadata": {
    "scrolled": true
   },
   "source": [
    "['f', 't'][bool('spam')]"
   ]
  },
  {
   "cell_type": "code",
   "execution_count": 6,
   "metadata": {},
   "outputs": [
    {
     "data": {
      "text/plain": [
       "'a'"
      ]
     },
     "execution_count": 6,
     "metadata": {},
     "output_type": "execute_result"
    }
   ],
   "source": [
    "['a', 't'][False]"
   ]
  },
  {
   "cell_type": "code",
   "execution_count": 8,
   "metadata": {},
   "outputs": [
    {
     "data": {
      "text/plain": [
       "512"
      ]
     },
     "execution_count": 8,
     "metadata": {},
     "output_type": "execute_result"
    }
   ],
   "source": [
    "2**(3**2)\n"
   ]
  },
  {
   "cell_type": "code",
   "execution_count": 12,
   "metadata": {},
   "outputs": [
    {
     "name": "stdout",
     "output_type": "stream",
     "text": [
      "******\n",
      "*****\n",
      "****\n",
      "***\n",
      "**\n",
      "*\n"
     ]
    }
   ],
   "source": [
    "n = 6\n",
    "\n",
    "for row in range(n, 0, -1):\n",
    "    print(row* '*')"
   ]
  },
  {
   "cell_type": "code",
   "execution_count": 17,
   "metadata": {},
   "outputs": [
    {
     "data": {
      "text/plain": [
       "0.30000000000000004"
      ]
     },
     "execution_count": 17,
     "metadata": {},
     "output_type": "execute_result"
    }
   ],
   "source": [
    "0.1+0.2"
   ]
  },
  {
   "cell_type": "code",
   "execution_count": 15,
   "metadata": {},
   "outputs": [],
   "source": [
    "n = 13\n",
    "flag = True\n",
    "for i in range(2, n):\n",
    "    if n% i == 0:\n",
    "        flag = False\n",
    "    "
   ]
  },
  {
   "cell_type": "code",
   "execution_count": null,
   "metadata": {},
   "outputs": [],
   "source": []
  },
  {
   "cell_type": "code",
   "execution_count": 16,
   "metadata": {
    "scrolled": true
   },
   "outputs": [
    {
     "data": {
      "text/plain": [
       "False"
      ]
     },
     "execution_count": 16,
     "metadata": {},
     "output_type": "execute_result"
    }
   ],
   "source": [
    "flag"
   ]
  },
  {
   "cell_type": "code",
   "execution_count": 88,
   "metadata": {},
   "outputs": [
    {
     "name": "stdout",
     "output_type": "stream",
     "text": [
      "0\n",
      "1\n",
      "2\n",
      "3\n",
      "4\n",
      "5\n"
     ]
    }
   ],
   "source": [
    "for i in range(10):\n",
    "    print(i)\n",
    "    if i == 5:\n",
    "        break\n",
    "else:\n",
    "    print('in else')"
   ]
  },
  {
   "cell_type": "code",
   "execution_count": null,
   "metadata": {},
   "outputs": [],
   "source": []
  },
  {
   "cell_type": "code",
   "execution_count": 14,
   "metadata": {},
   "outputs": [
    {
     "name": "stdout",
     "output_type": "stream",
     "text": [
      "banana\n",
      "Stuart 12\n"
     ]
    }
   ],
   "source": [
    "def minion_game(string):\n",
    "    # your code goes here\n",
    "    vowels = ['a', 'e', 'i', 'o', 'u']\n",
    "    kevin_score = 0\n",
    "    stuart_score = 0\n",
    "    \n",
    "    kevin_dict = {}\n",
    "    stuart_dict = {}\n",
    "    for i in range(len(string)):\n",
    "        if string[i].lower() in vowels:\n",
    "            for j in range(len(string),  i, -1):\n",
    "                sub_str = string[i:j]\n",
    "                \n",
    "                found = kevin_dict.get(sub_str)\n",
    "                if found:\n",
    "                    kevin_dict[sub_str] = kevin_dict[sub_str] + 1\n",
    "                else:\n",
    "                    kevin_dict.update({sub_str: 1})\n",
    "                \n",
    "    \n",
    "    for i in range(len(string)):\n",
    "        if string[i].lower() not in vowels:\n",
    "            for j in range(len(string),  i, -1):\n",
    "                sub_str = string[i:j]\n",
    "                \n",
    "                \n",
    "                found = stuart_dict.get(sub_str)\n",
    "                if found:\n",
    "                    stuart_dict[sub_str] = stuart_dict[sub_str] + 1\n",
    "                else:\n",
    "                    stuart_dict.update({sub_str: 1})\n",
    "    \n",
    "    kevin_score = sum(list(kevin_dict.values()))\n",
    "    \n",
    "    stuart_score = sum(list(stuart_dict.values()))\n",
    "    \n",
    "    if kevin_score > stuart_score:\n",
    "        print('Kevin', kevin_score)\n",
    "    else:\n",
    "        print('Stuart', stuart_score)\n",
    "    \n",
    "if __name__ == '__main__':\n",
    "    s = input()\n",
    "    minion_game(s)"
   ]
  },
  {
   "cell_type": "code",
   "execution_count": 15,
   "metadata": {},
   "outputs": [
    {
     "data": {
      "text/plain": [
       "0"
      ]
     },
     "execution_count": 15,
     "metadata": {},
     "output_type": "execute_result"
    }
   ],
   "source": [
    "kevin_dict = {}\n",
    "stuart_dict = {}\n",
    "sum(list(kevin_dict.values()))\n"
   ]
  },
  {
   "cell_type": "code",
   "execution_count": 21,
   "metadata": {},
   "outputs": [
    {
     "data": {
      "text/plain": [
       "'ACB'"
      ]
     },
     "execution_count": 21,
     "metadata": {},
     "output_type": "execute_result"
    }
   ],
   "source": [
    "''.join(set('CAAB'))"
   ]
  },
  {
   "cell_type": "code",
   "execution_count": 3,
   "metadata": {
    "scrolled": true
   },
   "outputs": [
    {
     "name": "stdout",
     "output_type": "stream",
     "text": [
      "AAB\n",
      "['AB']\n",
      "CAA\n",
      "['AB', 'CA']\n",
      "ADA\n",
      "['AB', 'CA', 'AD']\n",
      "AB\n",
      "CA\n",
      "AD\n"
     ]
    }
   ],
   "source": [
    "def merge_the_tools(string, k):\n",
    "    # your code goes here\n",
    "    li = []\n",
    "    for i in range(0, len(string), k):\n",
    "        sub_str = string[i: i + k]\n",
    "        li.append(sub_str)\n",
    "    new_li = []\n",
    "    for i in li:\n",
    "        new_str = ''\n",
    "        for a in i:\n",
    "            \n",
    "            if a in new_str:\n",
    "                continue\n",
    "            else:\n",
    "                new_str = new_str + a\n",
    "        new_li.append(new_str)\n",
    "    for i in new_li:\n",
    "        print(i)        \n",
    "\n",
    "if __name__ == '__main__':\n",
    "    string, k = 'AABCAAADA', int(3)\n",
    "    merge_the_tools(string, k)"
   ]
  },
  {
   "cell_type": "code",
   "execution_count": 7,
   "metadata": {},
   "outputs": [],
   "source": [
    "def check_palindrome(word: str):\n",
    "    start = 0\n",
    "    end = len(word) - 1\n",
    "    is_palindrome = True\n",
    "    while start <= end:\n",
    "        if word[start].lower() != word[end].lower():\n",
    "            is_palindrome = False\n",
    "            break\n",
    "        else:\n",
    "            start += 1\n",
    "            end -= 1\n",
    "    return is_palindrome"
   ]
  },
  {
   "cell_type": "code",
   "execution_count": 11,
   "metadata": {},
   "outputs": [
    {
     "data": {
      "text/plain": [
       "True"
      ]
     },
     "execution_count": 11,
     "metadata": {},
     "output_type": "execute_result"
    }
   ],
   "source": [
    "check_palindrome('asa')"
   ]
  },
  {
   "cell_type": "code",
   "execution_count": 16,
   "metadata": {},
   "outputs": [
    {
     "data": {
      "text/plain": [
       "[1, 2, 3, 4, 5]"
      ]
     },
     "execution_count": 16,
     "metadata": {},
     "output_type": "execute_result"
    }
   ],
   "source": [
    "li = [1,2,3,4,5]\n",
    "step = 5\n",
    "\n",
    "rotation(li, step)"
   ]
  },
  {
   "cell_type": "code",
   "execution_count": 13,
   "metadata": {},
   "outputs": [],
   "source": [
    "def rotation(li, step):\n",
    "    length = len(li)\n",
    "    second = li[-step:]\n",
    "    first = li[:length-step]\n",
    "    return second + first"
   ]
  },
  {
   "cell_type": "code",
   "execution_count": 19,
   "metadata": {},
   "outputs": [
    {
     "name": "stdout",
     "output_type": "stream",
     "text": [
      "1\n",
      "1\n",
      "2\n",
      "2\n",
      "[[0, 0, 0], [0, 0, 1], [0, 1, 0], [0, 1, 2], [1, 0, 0], [1, 0, 2], [1, 1, 1], [1, 1, 2]]\n"
     ]
    }
   ],
   "source": [
    "x = int(input())\n",
    "y = int(input())\n",
    "z = int(input())\n",
    "n = int(input())\n",
    "\n",
    "# main_li = []\n",
    "# for i in range(x+1):\n",
    "#     for j in range(y+1):\n",
    "#         for k in range(z+1):\n",
    "#             print(i , j, k)\n",
    "\n",
    "\n",
    "a = [[i,j,k]for i in range(x+1) for j in range(y + 1) for k in range(z + 1) if (i+j+k) != n]\n",
    "print(a)"
   ]
  },
  {
   "cell_type": "code",
   "execution_count": 21,
   "metadata": {},
   "outputs": [
    {
     "data": {
      "text/plain": [
       "[1, 2, 3, 4, 5]"
      ]
     },
     "execution_count": 21,
     "metadata": {},
     "output_type": "execute_result"
    }
   ],
   "source": [
    "li = [ 5,4,3,2,1]\n",
    "li.sort()\n",
    "li"
   ]
  },
  {
   "cell_type": "markdown",
   "metadata": {},
   "source": [
    "# Binary pattern"
   ]
  },
  {
   "cell_type": "code",
   "execution_count": 33,
   "metadata": {},
   "outputs": [
    {
     "name": "stdout",
     "output_type": "stream",
     "text": [
      "5\n",
      "1 1 1 1 1 \n",
      "0 0 0 0 \n",
      "1 1 1 \n",
      "0 0 \n",
      "1 \n"
     ]
    }
   ],
   "source": [
    "n = int(input())\n",
    "\n",
    "for i in range(n, 0, -1):\n",
    "    for j in range(i):\n",
    "        if (n - i +1)%2 != 0:\n",
    "            print(1, end = ' ')\n",
    "        else:\n",
    "            print(0, end = ' ')\n",
    "    print()"
   ]
  },
  {
   "cell_type": "markdown",
   "metadata": {},
   "source": [
    "# Number pyramid"
   ]
  },
  {
   "cell_type": "code",
   "execution_count": 43,
   "metadata": {},
   "outputs": [
    {
     "name": "stdout",
     "output_type": "stream",
     "text": [
      "6\n",
      "123456\n",
      " 23456\n",
      "  3456\n",
      "   456\n",
      "    56\n",
      "     6\n",
      "    56\n",
      "   456\n",
      "  3456\n",
      " 23456\n",
      "123456\n"
     ]
    }
   ],
   "source": [
    "n = int(input())\n",
    "\n",
    "\n",
    "for i in range(n):\n",
    "    for _ in range(i):\n",
    "        print(' ', end='')\n",
    "    for j in range(i+1, n+1):\n",
    "        print(j, end = '')\n",
    "    print()\n",
    "    \n",
    "for x in range(n, 1, -1):\n",
    "    for _ in range(x - 2):\n",
    "        print(' ', end= '')\n",
    "    for y in range(x-1, n +1):\n",
    "        print(y, end = '')\n",
    "    print()\n",
    "    \n"
   ]
  },
  {
   "cell_type": "markdown",
   "metadata": {},
   "source": [
    "# Swap alternate members\n"
   ]
  },
  {
   "cell_type": "code",
   "execution_count": 50,
   "metadata": {},
   "outputs": [
    {
     "name": "stdout",
     "output_type": "stream",
     "text": [
      "1 2 3 4 5\n",
      "['2', '1', '4', '3', '5']\n"
     ]
    }
   ],
   "source": [
    "inp = input().split(' ')\n",
    "length = len(inp)\n",
    "\n",
    "for i in range(0, length - 1, 2):\n",
    "    inp[i], inp[i+1] = inp[i+1], inp[i]\n",
    "print(inp)"
   ]
  },
  {
   "cell_type": "markdown",
   "metadata": {},
   "source": [
    "# Find unique\n"
   ]
  },
  {
   "cell_type": "code",
   "execution_count": 57,
   "metadata": {},
   "outputs": [
    {
     "name": "stdout",
     "output_type": "stream",
     "text": [
      "1 3 1 3 6 6 7 10 7\n",
      "10\n"
     ]
    }
   ],
   "source": [
    "li = [int(i) for i in input().split(' ')]\n",
    "# li = [2, 4, 7, 2, 7]\n",
    "\n",
    "\n",
    "unique_count = (len(li)-1)//2\n",
    "\n",
    "for i in range(len(li)):\n",
    "    j = 0\n",
    "    while j < len(li):\n",
    "        if i == j:\n",
    "            j += 1\n",
    "            continue\n",
    "        if li[i] == li[j]:\n",
    "            break\n",
    "        j += 1\n",
    "    else:\n",
    "        unique = li[i]\n",
    "        \n",
    "print(unique)\n",
    "        \n"
   ]
  },
  {
   "cell_type": "markdown",
   "metadata": {},
   "source": [
    "# Find duplicate"
   ]
  },
  {
   "cell_type": "code",
   "execution_count": 59,
   "metadata": {},
   "outputs": [
    {
     "name": "stdout",
     "output_type": "stream",
     "text": [
      "0 3 1 5 4 3 2\n",
      "3\n"
     ]
    }
   ],
   "source": [
    "li = [int(i) for i in input().split(' ')]\n",
    "# li = [0, 2, 1, 3, 1]\n",
    "\n",
    "\n",
    "# unique_count = (len(li)-1)//2\n",
    "\n",
    "for i in range(len(li)):\n",
    "    j = 0\n",
    "    while j < len(li):\n",
    "        if i == j:\n",
    "            j += 1\n",
    "            continue\n",
    "        if li[i] == li[j]:\n",
    "            duplicate = li[i]\n",
    "            break\n",
    "        j += 1\n",
    "#     else:\n",
    "#         unique = li[i]\n",
    "        \n",
    "print(duplicate)\n",
    "        \n"
   ]
  },
  {
   "cell_type": "markdown",
   "metadata": {},
   "source": [
    "# Find Intersection"
   ]
  },
  {
   "cell_type": "code",
   "execution_count": 67,
   "metadata": {},
   "outputs": [
    {
     "name": "stdout",
     "output_type": "stream",
     "text": [
      "[2, 2, 1]\n"
     ]
    }
   ],
   "source": [
    "li1 = [2, 6, 1, 2]\n",
    "li2 = [1, 2, 3, 4, 2]\n",
    "\n",
    "intersection = []\n",
    "for i in range(len(li1)):\n",
    "    for j in range(len(li2)):\n",
    "        \n",
    "        if li1[i] == li2[j]:\n",
    "            \n",
    "            li2[j] = 'abcdxyz'\n",
    "            intersection.append(li1[i])\n",
    "\n",
    "print(intersection)"
   ]
  },
  {
   "cell_type": "code",
   "execution_count": 70,
   "metadata": {},
   "outputs": [
    {
     "name": "stdout",
     "output_type": "stream",
     "text": [
      "1\n",
      "2\n",
      "2\n"
     ]
    }
   ],
   "source": [
    "li1 = sorted([2, 6, 1, 2])\n",
    "li2 = sorted([1, 2, 3, 4, 2])\n",
    "i = 0\n",
    "j = 0\n",
    "while i <len(li1) and j < len(li2):\n",
    "    if li1[i] == li2[j]:\n",
    "        print(li1[i])\n",
    "        i += 1\n",
    "        j += 1\n",
    "    elif li1[i] > li2[j]:\n",
    "        j += 1\n",
    "    elif li2[j] > li1[i]:\n",
    "        i += 1\n",
    "\n",
    "        \n",
    "\n"
   ]
  },
  {
   "cell_type": "markdown",
   "metadata": {},
   "source": [
    "# pair sum"
   ]
  },
  {
   "cell_type": "code",
   "execution_count": 74,
   "metadata": {},
   "outputs": [
    {
     "name": "stdout",
     "output_type": "stream",
     "text": [
      "7\n"
     ]
    }
   ],
   "source": [
    "li = [1, 3, 6, 2, 5,4, 3, 2, 4]\n",
    "x = 7\n",
    "count =0\n",
    "for i in range(len(li)):\n",
    "    for j in range(i+1, len(li)):\n",
    "        if i == j:\n",
    "            continue\n",
    "        if li[i] + li[j] == x:\n",
    "            count += 1\n",
    "print(count)"
   ]
  },
  {
   "cell_type": "code",
   "execution_count": 82,
   "metadata": {
    "scrolled": true
   },
   "outputs": [
    {
     "name": "stdout",
     "output_type": "stream",
     "text": [
      "9\n"
     ]
    }
   ],
   "source": [
    "li = [1, 3, 6, 2, 5,4, 3, 2, 4]\n",
    "x = 7\n",
    "count =0\n",
    "\n",
    "hashmap = {}\n",
    "\n",
    "\n",
    "for i in range(len(li)):\n",
    "    key = x - li[i]\n",
    "    \n",
    "    if hashmap.get(key):\n",
    "        hashmap[key] += 1\n",
    "    else:\n",
    "        hashmap[key] = 1\n",
    "        \n",
    "print(sum(hashmap.values()))\n",
    "    "
   ]
  },
  {
   "cell_type": "markdown",
   "metadata": {},
   "source": [
    "# Triplet sum "
   ]
  },
  {
   "cell_type": "code",
   "execution_count": 83,
   "metadata": {},
   "outputs": [],
   "source": [
    "#pending"
   ]
  },
  {
   "cell_type": "markdown",
   "metadata": {},
   "source": [
    "# SORT 0 1"
   ]
  },
  {
   "cell_type": "code",
   "execution_count": null,
   "metadata": {},
   "outputs": [],
   "source": [
    "# li =[0, 1, 1, 0,1, 0,1]\n",
    "\n",
    "lastone = 0\n",
    "for i in range(len(li)):\n",
    "    if li[i] == 0:\n",
    "        li[i], li[lastone] = li[lastone], li[i]\n",
    "        lastone += 1\n",
    "        \n",
    "print(li)"
   ]
  },
  {
   "cell_type": "code",
   "execution_count": 61,
   "metadata": {},
   "outputs": [
    {
     "name": "stdout",
     "output_type": "stream",
     "text": [
      "Help on class list in module builtins:\n",
      "\n",
      "class list(object)\n",
      " |  list(iterable=(), /)\n",
      " |  \n",
      " |  Built-in mutable sequence.\n",
      " |  \n",
      " |  If no argument is given, the constructor creates a new empty list.\n",
      " |  The argument must be an iterable if specified.\n",
      " |  \n",
      " |  Methods defined here:\n",
      " |  \n",
      " |  __add__(self, value, /)\n",
      " |      Return self+value.\n",
      " |  \n",
      " |  __contains__(self, key, /)\n",
      " |      Return key in self.\n",
      " |  \n",
      " |  __delitem__(self, key, /)\n",
      " |      Delete self[key].\n",
      " |  \n",
      " |  __eq__(self, value, /)\n",
      " |      Return self==value.\n",
      " |  \n",
      " |  __ge__(self, value, /)\n",
      " |      Return self>=value.\n",
      " |  \n",
      " |  __getattribute__(self, name, /)\n",
      " |      Return getattr(self, name).\n",
      " |  \n",
      " |  __getitem__(...)\n",
      " |      x.__getitem__(y) <==> x[y]\n",
      " |  \n",
      " |  __gt__(self, value, /)\n",
      " |      Return self>value.\n",
      " |  \n",
      " |  __iadd__(self, value, /)\n",
      " |      Implement self+=value.\n",
      " |  \n",
      " |  __imul__(self, value, /)\n",
      " |      Implement self*=value.\n",
      " |  \n",
      " |  __init__(self, /, *args, **kwargs)\n",
      " |      Initialize self.  See help(type(self)) for accurate signature.\n",
      " |  \n",
      " |  __iter__(self, /)\n",
      " |      Implement iter(self).\n",
      " |  \n",
      " |  __le__(self, value, /)\n",
      " |      Return self<=value.\n",
      " |  \n",
      " |  __len__(self, /)\n",
      " |      Return len(self).\n",
      " |  \n",
      " |  __lt__(self, value, /)\n",
      " |      Return self<value.\n",
      " |  \n",
      " |  __mul__(self, value, /)\n",
      " |      Return self*value.\n",
      " |  \n",
      " |  __ne__(self, value, /)\n",
      " |      Return self!=value.\n",
      " |  \n",
      " |  __repr__(self, /)\n",
      " |      Return repr(self).\n",
      " |  \n",
      " |  __reversed__(self, /)\n",
      " |      Return a reverse iterator over the list.\n",
      " |  \n",
      " |  __rmul__(self, value, /)\n",
      " |      Return value*self.\n",
      " |  \n",
      " |  __setitem__(self, key, value, /)\n",
      " |      Set self[key] to value.\n",
      " |  \n",
      " |  __sizeof__(self, /)\n",
      " |      Return the size of the list in memory, in bytes.\n",
      " |  \n",
      " |  append(self, object, /)\n",
      " |      Append object to the end of the list.\n",
      " |  \n",
      " |  clear(self, /)\n",
      " |      Remove all items from list.\n",
      " |  \n",
      " |  copy(self, /)\n",
      " |      Return a shallow copy of the list.\n",
      " |  \n",
      " |  count(self, value, /)\n",
      " |      Return number of occurrences of value.\n",
      " |  \n",
      " |  extend(self, iterable, /)\n",
      " |      Extend list by appending elements from the iterable.\n",
      " |  \n",
      " |  index(self, value, start=0, stop=9223372036854775807, /)\n",
      " |      Return first index of value.\n",
      " |      \n",
      " |      Raises ValueError if the value is not present.\n",
      " |  \n",
      " |  insert(self, index, object, /)\n",
      " |      Insert object before index.\n",
      " |  \n",
      " |  pop(self, index=-1, /)\n",
      " |      Remove and return item at index (default last).\n",
      " |      \n",
      " |      Raises IndexError if list is empty or index is out of range.\n",
      " |  \n",
      " |  remove(self, value, /)\n",
      " |      Remove first occurrence of value.\n",
      " |      \n",
      " |      Raises ValueError if the value is not present.\n",
      " |  \n",
      " |  reverse(self, /)\n",
      " |      Reverse *IN PLACE*.\n",
      " |  \n",
      " |  sort(self, /, *, key=None, reverse=False)\n",
      " |      Sort the list in ascending order and return None.\n",
      " |      \n",
      " |      The sort is in-place (i.e. the list itself is modified) and stable (i.e. the\n",
      " |      order of two equal elements is maintained).\n",
      " |      \n",
      " |      If a key function is given, apply it once to each list item and sort them,\n",
      " |      ascending or descending, according to their function values.\n",
      " |      \n",
      " |      The reverse flag can be set to sort in descending order.\n",
      " |  \n",
      " |  ----------------------------------------------------------------------\n",
      " |  Static methods defined here:\n",
      " |  \n",
      " |  __new__(*args, **kwargs) from builtins.type\n",
      " |      Create and return a new object.  See help(type) for accurate signature.\n",
      " |  \n",
      " |  ----------------------------------------------------------------------\n",
      " |  Data and other attributes defined here:\n",
      " |  \n",
      " |  __hash__ = None\n",
      "\n"
     ]
    }
   ],
   "source": [
    "help(list)"
   ]
  },
  {
   "cell_type": "markdown",
   "metadata": {},
   "source": [
    "# Pair sum\n"
   ]
  },
  {
   "cell_type": "code",
   "execution_count": 3,
   "metadata": {},
   "outputs": [
    {
     "name": "stdout",
     "output_type": "stream",
     "text": [
      "(3, 1)\n"
     ]
    }
   ],
   "source": [
    "def pair_sum(li, target_sum):\n",
    "    \n",
    "    map_num = {}\n",
    "    \n",
    "    for i in range(len(li)):\n",
    "        diff = target_sum - li[i]\n",
    "        if diff in map_num:\n",
    "            return (li[i], diff)\n",
    "        else:\n",
    "            map_num.update({li[i]: True})\n",
    "    \n",
    "    return ()\n",
    "        \n",
    "\n",
    "def main():\n",
    "    \n",
    "    print(pair_sum(li = [1, 3, 6, 2, 5,4, 3, 2, 4], target_sum = 4))\n",
    "    # Your code goes here\n",
    "    \n",
    "main()\n"
   ]
  },
  {
   "cell_type": "markdown",
   "metadata": {},
   "source": [
    "# Mountain "
   ]
  },
  {
   "cell_type": "code",
   "execution_count": 8,
   "metadata": {},
   "outputs": [
    {
     "data": {
      "text/plain": [
       "4"
      ]
     },
     "execution_count": 8,
     "metadata": {},
     "output_type": "execute_result"
    }
   ],
   "source": [
    "def longestMountain(arr, n):\n",
    "\n",
    "    # Write your code here.\n",
    "    \n",
    "    maximum = 0\n",
    "    i = 1\n",
    "    \n",
    "    while i < n - 1:\n",
    "        if arr[i] > arr[i-1] and arr[i] > arr[i+1]:\n",
    "            j = i\n",
    "            backlength = 0\n",
    "            forwardlength = 0\n",
    "            while j > 0 and arr[j] > arr[j-1]:\n",
    "                backlength += 1\n",
    "                j -= 1\n",
    "            k = i\n",
    "            while k < n - 1 and  arr[k] > arr[k+1]:\n",
    "                forwardlength += 1\n",
    "                k += 1\n",
    "            \n",
    "            length = backlength + forwardlength + 1\n",
    "            if length > maximum:\n",
    "                maximum = length\n",
    "            i = k\n",
    "        else:\n",
    "            i += 1\n",
    "    return maximum\n",
    "\n",
    "\n",
    "arr = [1, 3, 1, 4, 3, 1]\n",
    "longestMountain(arr, len(arr))"
   ]
  },
  {
   "cell_type": "markdown",
   "metadata": {},
   "source": [
    "# Rainwater\n"
   ]
  },
  {
   "cell_type": "code",
   "execution_count": null,
   "metadata": {},
   "outputs": [],
   "source": [
    "from os import *\n",
    "from sys import *\n",
    "from collections import *\n",
    "from math import *\n",
    "\n",
    "def getTrappedWater(arr, n) :\n",
    "\t# Write your code here.\n",
    "    \n",
    "    if n <= 2:\n",
    "        return 0\n",
    "    \n",
    "    left_arr = [0 for i in arr]\n",
    "    right_arr = [0 for i in arr]\n",
    "    left_arr[0] = arr[0]\n",
    "    right_arr[n-1] = arr[n - 1]\n",
    "    for i in range(1, n):\n",
    "        left_arr[i] = max(left_arr[i-1], arr[i]) \n",
    "        right_arr[n-i-1] = max(right_arr[n-i], arr[n-i-1])\n",
    "    water_trapped = 0\n",
    "    for i in range(1, n):\n",
    "        water_trapped += min(left_arr[i], right_arr[i]) - arr[i]\n",
    "        \n",
    "    return water_trapped\n",
    "        "
   ]
  },
  {
   "cell_type": "code",
   "execution_count": null,
   "metadata": {},
   "outputs": [],
   "source": []
  }
 ],
 "metadata": {
  "kernelspec": {
   "display_name": "Python 3",
   "language": "python",
   "name": "python3"
  },
  "language_info": {
   "codemirror_mode": {
    "name": "ipython",
    "version": 3
   },
   "file_extension": ".py",
   "mimetype": "text/x-python",
   "name": "python",
   "nbconvert_exporter": "python",
   "pygments_lexer": "ipython3",
   "version": "3.8.3"
  }
 },
 "nbformat": 4,
 "nbformat_minor": 4
}
