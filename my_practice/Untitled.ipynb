{
 "cells": [
  {
   "cell_type": "code",
   "execution_count": 1,
   "metadata": {},
   "outputs": [
    {
     "name": "stdout",
     "output_type": "stream",
     "text": [
      "7\n"
     ]
    }
   ],
   "source": [
    "class change:\n",
    "    def __init__(self, x, y, z):\n",
    "        self.a = x + y + z\n",
    " \n",
    "x = change(1,2,3)\n",
    "y = getattr(x, 'a')\n",
    "setattr(x, 'a', y+1)\n",
    "print(x.a)\n"
   ]
  },
  {
   "cell_type": "code",
   "execution_count": null,
   "metadata": {},
   "outputs": [],
   "source": [
    "'Gnome 3', 'GTK Widget Toolkit'\n",
    "'Boost', 'None'\n",
    "'elfutils', 'libelf++'\n",
    "'libelf++', 'Cairo 2D'\n",
    "'GTK Widget Toolkit', 'Cairo 2D'\n",
    "'GDB', 'elfutils'\n",
    "'Cairo 2D', 'Boost'"
   ]
  },
  {
   "cell_type": "code",
   "execution_count": null,
   "metadata": {},
   "outputs": [],
   "source": [
    "Gnome 3, GTK Widget Toolkit\n",
    "Boost, None\n",
    "elfutils, libelf++\n",
    "libelf++, Cairo 2D\n",
    "GTK Widget Toolkit, Cairo 2D\n",
    "GDB, elfutils\n",
    "Cairo 2D, Boost"
   ]
  },
  {
   "cell_type": "code",
   "execution_count": 3,
   "metadata": {
    "scrolled": false
   },
   "outputs": [
    {
     "name": "stdout",
     "output_type": "stream",
     "text": [
      "Gnome 3, GTK Widget Toolkit\n",
      "Boost, None\n",
      "elfutils, libelf++\n",
      "libelf++, Cairo 2D\n",
      "GTK Widget Toolkit, Cairo 2D\n",
      "GDB, elfutils\n",
      "Cairo 2D, Boost\n"
     ]
    }
   ],
   "source": [
    "dependency_map = {i.split(',')[0].strip(): i.split(',')[1].strip() for i in (str(input()) for _ in range(7)) if i.split(',')[1].strip() != 'None'}"
   ]
  },
  {
   "cell_type": "code",
   "execution_count": 4,
   "metadata": {},
   "outputs": [
    {
     "data": {
      "text/plain": [
       "{'Gnome 3': 'GTK Widget Toolkit',\n",
       " 'elfutils': 'libelf++',\n",
       " 'libelf++': 'Cairo 2D',\n",
       " 'GTK Widget Toolkit': 'Cairo 2D',\n",
       " 'GDB': 'elfutils',\n",
       " 'Cairo 2D': 'Boost'}"
      ]
     },
     "execution_count": 4,
     "metadata": {},
     "output_type": "execute_result"
    }
   ],
   "source": [
    "dependency_map"
   ]
  },
  {
   "cell_type": "code",
   "execution_count": 7,
   "metadata": {},
   "outputs": [
    {
     "name": "stdout",
     "output_type": "stream",
     "text": [
      "['Boost', 'Cairo 2D', 'GTK Widget Toolkit', 'Gnome 3']\n"
     ]
    }
   ],
   "source": [
    "dependency_map\n",
    "\n",
    "to_install = 'Gnome 3'\n",
    "install_seq = []\n",
    "install_seq.append(to_install)\n",
    "no_dep = False\n",
    "while no_dep == False:\n",
    "    install_soft = dependency_map.get(to_install)\n",
    "    if not install_soft or install_soft == 'None':\n",
    "        no_dep = True\n",
    "    else:\n",
    "        install_seq.append(install_soft)\n",
    "        to_install = install_soft\n",
    "\n",
    "install_seq.reverse()\n",
    "print(install_seq)\n",
    "    "
   ]
  },
  {
   "cell_type": "code",
   "execution_count": 1,
   "metadata": {},
   "outputs": [
    {
     "ename": "NameError",
     "evalue": "name 'install_seq' is not defined",
     "output_type": "error",
     "traceback": [
      "\u001b[1;31m---------------------------------------------------------------------------\u001b[0m",
      "\u001b[1;31mNameError\u001b[0m                                 Traceback (most recent call last)",
      "\u001b[1;32m<ipython-input-1-3638a88ef2e3>\u001b[0m in \u001b[0;36m<module>\u001b[1;34m\u001b[0m\n\u001b[1;32m----> 1\u001b[1;33m \u001b[0minstall_seq\u001b[0m\u001b[1;33m\u001b[0m\u001b[1;33m\u001b[0m\u001b[0m\n\u001b[0m",
      "\u001b[1;31mNameError\u001b[0m: name 'install_seq' is not defined"
     ]
    }
   ],
   "source": [
    "install_seq"
   ]
  },
  {
   "cell_type": "code",
   "execution_count": 2,
   "metadata": {},
   "outputs": [
    {
     "name": "stdout",
     "output_type": "stream",
     "text": [
      "Gnome 3, GTK Widget Toolkit\n"
     ]
    }
   ],
   "source": [
    "a = str(input())"
   ]
  },
  {
   "cell_type": "code",
   "execution_count": 6,
   "metadata": {},
   "outputs": [
    {
     "data": {
      "text/plain": [
       "'GTK Widget Toolkit'"
      ]
     },
     "execution_count": 6,
     "metadata": {},
     "output_type": "execute_result"
    }
   ],
   "source": [
    "a.split(',')[1].strip()"
   ]
  }
 ],
 "metadata": {
  "kernelspec": {
   "display_name": "Python 3",
   "language": "python",
   "name": "python3"
  }
 },
 "nbformat": 4,
 "nbformat_minor": 4
}
