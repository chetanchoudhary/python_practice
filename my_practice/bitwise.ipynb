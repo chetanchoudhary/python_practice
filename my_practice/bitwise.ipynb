{
 "cells": [
  {
   "cell_type": "code",
   "execution_count": 6,
   "metadata": {},
   "outputs": [],
   "source": [
    "def convert_decimal_to_binary(num: int) -> int:\n",
    "    binary = 0\n",
    "    i = 1\n",
    "    while num > 0:\n",
    "        remainder = num%2\n",
    "        binary = binary + (i *remainder)\n",
    "        num = num //2\n",
    "        i = i * 10\n",
    "    return binary"
   ]
  },
  {
   "cell_type": "code",
   "execution_count": 7,
   "metadata": {},
   "outputs": [
    {
     "data": {
      "text/plain": [
       "1010"
      ]
     },
     "execution_count": 7,
     "metadata": {},
     "output_type": "execute_result"
    }
   ],
   "source": [
    "convert_decimal_to_binary(10)"
   ]
  },
  {
   "cell_type": "markdown",
   "metadata": {},
   "source": [
    "# Bitwise solution "
   ]
  },
  {
   "cell_type": "code",
   "execution_count": 14,
   "metadata": {},
   "outputs": [],
   "source": [
    "def convert_decimal_to_binary_bitwise(num: int) -> int:\n",
    "    binary = 0\n",
    "    i = 1\n",
    "    \n",
    "    while num > 0:\n",
    "        last_bit = num & 1\n",
    "        num = num >> 1\n",
    "        \n",
    "        binary = binary + (last_bit * i)\n",
    "        i *= 10\n",
    "    return binary "
   ]
  },
  {
   "cell_type": "code",
   "execution_count": 15,
   "metadata": {},
   "outputs": [
    {
     "data": {
      "text/plain": [
       "1010"
      ]
     },
     "execution_count": 15,
     "metadata": {},
     "output_type": "execute_result"
    }
   ],
   "source": [
    "convert_decimal_to_binary_bitwise(10)"
   ]
  }
 ],
 "metadata": {
  "kernelspec": {
   "display_name": "Python 3",
   "language": "python",
   "name": "python3"
  },
  "language_info": {
   "codemirror_mode": {
    "name": "ipython",
    "version": 3
   },
   "file_extension": ".py",
   "mimetype": "text/x-python",
   "name": "python",
   "nbconvert_exporter": "python",
   "pygments_lexer": "ipython3",
   "version": "3.8.3"
  }
 },
 "nbformat": 4,
 "nbformat_minor": 4
}
