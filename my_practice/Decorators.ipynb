{
 "cells": [
  {
   "cell_type": "code",
   "execution_count": 2,
   "metadata": {},
   "outputs": [],
   "source": [
    "db = {'chetan.choudhary': 'admin'}"
   ]
  },
  {
   "cell_type": "code",
   "execution_count": 5,
   "metadata": {},
   "outputs": [
    {
     "name": "stdout",
     "output_type": "stream",
     "text": [
      "login failed\n"
     ]
    }
   ],
   "source": [
    "def login(func):\n",
    "    def wrapper(username, password, *args, **kwargs):\n",
    "        if username in db and db.get(username) == password:\n",
    "            print('login complete')\n",
    "            return func(*args, **kwargs)\n",
    "        else:\n",
    "            print('login failed')\n",
    "    return wrapper\n",
    "\n",
    "@login\n",
    "def add_new(a, b):\n",
    "    return a + b\n",
    "\n",
    "\n",
    "add_new('chetan.choudhary', 'admin1', 1, 2)"
   ]
  },
  {
   "cell_type": "code",
   "execution_count": 11,
   "metadata": {},
   "outputs": [],
   "source": [
    "a = 'OMEN by HP 25L GT15-0013na Gaming Desktop - NVIDIAâÃÂ¬Ã GeForce RTXâÂ¢Â¬ÃÂ¬Â¢ 3060 Ti'"
   ]
  },
  {
   "cell_type": "code",
   "execution_count": 12,
   "metadata": {},
   "outputs": [
    {
     "data": {
      "text/plain": [
       "'OMEN by HP 25L GT15-0013na Gaming Desktop - NVIDIA GeForce RTX 3060 Ti'"
      ]
     },
     "execution_count": 12,
     "metadata": {},
     "output_type": "execute_result"
    }
   ],
   "source": [
    "''.join([i for i in a if i.isascii()]) "
   ]
  },
  {
   "cell_type": "code",
   "execution_count": 8,
   "metadata": {
    "scrolled": true
   },
   "outputs": [
    {
     "ename": "AttributeError",
     "evalue": "'str' object has no attribute 'decode'",
     "output_type": "error",
     "traceback": [
      "\u001b[1;31m---------------------------------------------------------------------------\u001b[0m",
      "\u001b[1;31mAttributeError\u001b[0m                            Traceback (most recent call last)",
      "\u001b[1;32m<ipython-input-8-c619bdbaf8a0>\u001b[0m in \u001b[0;36m<module>\u001b[1;34m\u001b[0m\n\u001b[1;32m----> 1\u001b[1;33m \u001b[0ma\u001b[0m\u001b[1;33m.\u001b[0m\u001b[0mdecode\u001b[0m\u001b[1;33m(\u001b[0m\u001b[1;34m'utf-8'\u001b[0m\u001b[1;33m,\u001b[0m \u001b[1;34m'ignore'\u001b[0m\u001b[1;33m)\u001b[0m\u001b[1;33m\u001b[0m\u001b[1;33m\u001b[0m\u001b[0m\n\u001b[0m",
      "\u001b[1;31mAttributeError\u001b[0m: 'str' object has no attribute 'decode'"
     ]
    }
   ],
   "source": [
    "a.decode('utf-8', 'ignore')"
   ]
  },
  {
   "cell_type": "code",
   "execution_count": 7,
   "metadata": {},
   "outputs": [
    {
     "data": {
      "text/plain": [
       "'\\\\u0048\\\\u0050\\\\u0020\\\\u0050\\\\u0061\\\\u0076\\\\u0069\\\\u006C\\\\u0069\\\\u006F\\\\u006E\\\\u0020\\\\u0032\\\\u0037\\\\u002D\\\\u0064\\\\u0031\\\\u0030\\\\u0032\\\\u0034\\\\u006E\\\\u0061\\\\u0020\\\\u0041\\\\u006C\\\\u006C\\\\u002D\\\\u0069\\\\u006E\\\\u002D\\\\u004F\\\\u006E\\\\u0065\\\\u0020\\\\u0054\\\\u006F\\\\u0075\\\\u0063\\\\u0068\\\\u0073\\\\u0063\\\\u0072\\\\u0065\\\\u0065\\\\u006E\\\\u0020\\\\u0050\\\\u0043\\\\u0020\\\\u00E2\\\\u0088\\\\u009A\\\\u00C3\\\\u0089\\\\u00C2\\\\u00AC\\\\u00C2\\\\u00A2\\\\u00E2\\\\u0088\\\\u009A\\\\u00C2\\\\u00A2\\\\u00C2\\\\u00AC\\\\u00C3\\\\u0087\\\\u00C2\\\\u00AC\\\\u00C2\\\\u00A8\\\\u00E2\\\\u0088\\\\u009A\\\\u00C2\\\\u00A2\\\\u00C2\\\\u00AC\\\\u00C3\\\\u0084\\\\u00C2\\\\u00AC\\\\u00C3\\\\u00BA\\\\u0020\\\\u0043\\\\u006F\\\\u0072\\\\u0065\\\\u00E2\\\\u0088\\\\u009A\\\\u00C3\\\\u0089\\\\u00C2\\\\u00AC\\\\u00C2\\\\u00A2\\\\u00E2\\\\u0088\\\\u009A\\\\u00C2\\\\u00A2\\\\u00C2\\\\u00AC\\\\u00C3\\\\u0084\\\\u00C2\\\\u00AC\\\\u00C3\\\\u00BB\\\\u00E2\\\\u0088\\\\u009A\\\\u00C3\\\\u0087\\\\u00C2\\\\u00AC\\\\u00C2\\\\u00A2\\\\u0020\\\\u0069\\\\u0037'"
      ]
     },
     "execution_count": 7,
     "metadata": {},
     "output_type": "execute_result"
    }
   ],
   "source": [
    "import re\n",
    "\n",
    "''.join(r'\\u{:04X}'.format(ord(chr)) for chr in a)"
   ]
  }
 ],
 "metadata": {
  "kernelspec": {
   "display_name": "Python 3",
   "language": "python",
   "name": "python3"
  },
  "language_info": {
   "codemirror_mode": {
    "name": "ipython",
    "version": 3
   },
   "file_extension": ".py",
   "mimetype": "text/x-python",
   "name": "python",
   "nbconvert_exporter": "python",
   "pygments_lexer": "ipython3",
   "version": "3.8.3"
  }
 },
 "nbformat": 4,
 "nbformat_minor": 4
}
