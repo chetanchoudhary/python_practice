{
 "cells": [
  {
   "cell_type": "markdown",
   "id": "ed763869",
   "metadata": {},
   "source": [
    "# Python Iterators\n",
    "\n",
    "- Iterators are objects that can be iterated upon.\n",
    "- Terminology : iterator, iterable, iteration.\n",
    "\n",
    "\n",
    "\n",
    "<img src=\"https://media.giphy.com/media/l44QeXqzp5JoYSNe8/giphy.gif\" width=200>\n",
    "\n",
    "\n",
    "**Iterator**\n",
    "- Any object that you can traverse upon is an **iterator**. An object which will return data, one element at a time. \n",
    "- Python iterator object must implement two special methods, `__iter__()` and `__next__()` , known as iterator protocol.\n",
    "\n",
    "\n",
    "**Iterable**\n",
    "- An object is called **iterable** if we can get an iterator from it. Examples - list, tuple, string etc. are iterables.\n",
    "\n",
    "**Iteration**\n",
    "- repetiton of the process.\n"
   ]
  },
  {
   "cell_type": "markdown",
   "id": "b0446d6f",
   "metadata": {},
   "source": [
    "## Iterating Through an Iterator\n"
   ]
  },
  {
   "cell_type": "code",
   "execution_count": 10,
   "id": "b3eb343c",
   "metadata": {},
   "outputs": [],
   "source": [
    "# iterable \n",
    "my_list = [2,5,10,15]"
   ]
  },
  {
   "cell_type": "code",
   "execution_count": 11,
   "id": "c123f308",
   "metadata": {},
   "outputs": [],
   "source": [
    "# get an iterator.\n",
    "my_iter = iter(my_list)"
   ]
  },
  {
   "cell_type": "code",
   "execution_count": 12,
   "id": "54b59776",
   "metadata": {},
   "outputs": [
    {
     "data": {
      "text/plain": [
       "<list_iterator at 0x7ff471dc7be0>"
      ]
     },
     "execution_count": 12,
     "metadata": {},
     "output_type": "execute_result"
    }
   ],
   "source": [
    "my_iter"
   ]
  },
  {
   "cell_type": "code",
   "execution_count": 13,
   "id": "4b9a71df",
   "metadata": {},
   "outputs": [
    {
     "data": {
      "text/plain": [
       "2"
      ]
     },
     "execution_count": 13,
     "metadata": {},
     "output_type": "execute_result"
    }
   ],
   "source": [
    "# next element\n",
    "next(my_iter)"
   ]
  },
  {
   "cell_type": "code",
   "execution_count": 14,
   "id": "c5f35b28",
   "metadata": {},
   "outputs": [
    {
     "data": {
      "text/plain": [
       "5"
      ]
     },
     "execution_count": 14,
     "metadata": {},
     "output_type": "execute_result"
    }
   ],
   "source": [
    "# next element\n",
    "next(my_iter)"
   ]
  },
  {
   "cell_type": "code",
   "execution_count": 15,
   "id": "fb664d78",
   "metadata": {},
   "outputs": [
    {
     "data": {
      "text/plain": [
       "10"
      ]
     },
     "execution_count": 15,
     "metadata": {},
     "output_type": "execute_result"
    }
   ],
   "source": [
    "# next element\n",
    "next(my_iter)"
   ]
  },
  {
   "cell_type": "code",
   "execution_count": 16,
   "id": "f67847b1",
   "metadata": {},
   "outputs": [
    {
     "data": {
      "text/plain": [
       "15"
      ]
     },
     "execution_count": 16,
     "metadata": {},
     "output_type": "execute_result"
    }
   ],
   "source": [
    "# next element\n",
    "next(my_iter)"
   ]
  },
  {
   "cell_type": "code",
   "execution_count": 17,
   "id": "96da1fa2",
   "metadata": {},
   "outputs": [
    {
     "ename": "StopIteration",
     "evalue": "",
     "output_type": "error",
     "traceback": [
      "\u001b[0;31m---------------------------------------------------------------------------\u001b[0m",
      "\u001b[0;31mStopIteration\u001b[0m                             Traceback (most recent call last)",
      "\u001b[0;32m<ipython-input-17-56a19a8bf4b2>\u001b[0m in \u001b[0;36m<module>\u001b[0;34m\u001b[0m\n\u001b[1;32m      1\u001b[0m \u001b[0;31m# next element\u001b[0m\u001b[0;34m\u001b[0m\u001b[0;34m\u001b[0m\u001b[0;34m\u001b[0m\u001b[0m\n\u001b[0;32m----> 2\u001b[0;31m \u001b[0mnext\u001b[0m\u001b[0;34m(\u001b[0m\u001b[0mmy_iter\u001b[0m\u001b[0;34m)\u001b[0m\u001b[0;34m\u001b[0m\u001b[0;34m\u001b[0m\u001b[0m\n\u001b[0m",
      "\u001b[0;31mStopIteration\u001b[0m: "
     ]
    }
   ],
   "source": [
    "# next element\n",
    "next(my_iter)"
   ]
  },
  {
   "cell_type": "code",
   "execution_count": null,
   "id": "864ec5e8",
   "metadata": {},
   "outputs": [],
   "source": []
  },
  {
   "cell_type": "markdown",
   "id": "26c80b6a",
   "metadata": {},
   "source": [
    "## Loops for Iterators"
   ]
  },
  {
   "cell_type": "markdown",
   "id": "f1392a45",
   "metadata": {},
   "source": [
    "- A more elegant way of automatically iterating is by using the for loop. \n",
    "- We can iterate over any object that can return an iterator, for example list, string, file etc."
   ]
  },
  {
   "cell_type": "code",
   "execution_count": 19,
   "id": "2f0f5e42",
   "metadata": {},
   "outputs": [
    {
     "name": "stdout",
     "output_type": "stream",
     "text": [
      "2\n",
      "5\n",
      "10\n",
      "15\n"
     ]
    }
   ],
   "source": [
    "for ele in st:\n",
    "    print(ele)"
   ]
  },
  {
   "cell_type": "code",
   "execution_count": 20,
   "id": "d4ae1039",
   "metadata": {},
   "outputs": [
    {
     "name": "stdout",
     "output_type": "stream",
     "text": [
      "2\n",
      "5\n",
      "10\n",
      "15\n"
     ]
    }
   ],
   "source": [
    "my_iter = iter(my_list)\n",
    "\n",
    "# infinte while loop\n",
    "while True:\n",
    "    try:\n",
    "        # getting the next element\n",
    "        ele = next(my_iter)\n",
    "        print(ele)\n",
    "    except StopIteration:\n",
    "        # all the elements are exhausated.\n",
    "        break"
   ]
  },
  {
   "cell_type": "code",
   "execution_count": null,
   "id": "32e4dde4",
   "metadata": {},
   "outputs": [],
   "source": []
  },
  {
   "cell_type": "code",
   "execution_count": null,
   "id": "a1517560",
   "metadata": {},
   "outputs": [],
   "source": []
  },
  {
   "cell_type": "markdown",
   "id": "ca76c0e2",
   "metadata": {},
   "source": [
    "# Building Custom Iterators\n",
    "- Every custom iterator must implement the `__iter__()` and the `__next__()` methods.\n",
    "- The `__iter__()` method returns the iterator object itself.\n",
    "- The `__next__()` method must return the next item in the sequence. On reaching the last element, it must raise StopIteration."
   ]
  },
  {
   "cell_type": "code",
   "execution_count": 21,
   "id": "4b1248cc",
   "metadata": {},
   "outputs": [],
   "source": [
    "class CubeNumber:\n",
    "    def __init__(self, number = 0):\n",
    "        self.number = number\n",
    "        \n",
    "    def __iter__(self):\n",
    "        self.ele = 0\n",
    "        return self\n",
    "    \n",
    "    def __next__(self):\n",
    "        if self.ele <= self.number:\n",
    "            result = self.ele**3\n",
    "            self.ele += 1\n",
    "            return result\n",
    "        else:\n",
    "            raise StopIteration"
   ]
  },
  {
   "cell_type": "code",
   "execution_count": 22,
   "id": "fa14aa19",
   "metadata": {},
   "outputs": [],
   "source": [
    "cn = CubeNumber(5)"
   ]
  },
  {
   "cell_type": "code",
   "execution_count": 24,
   "id": "395b9d6e",
   "metadata": {},
   "outputs": [],
   "source": [
    "my_iter = cn.__iter__()"
   ]
  },
  {
   "cell_type": "code",
   "execution_count": 26,
   "id": "bb018ebd",
   "metadata": {},
   "outputs": [
    {
     "data": {
      "text/plain": [
       "0"
      ]
     },
     "execution_count": 26,
     "metadata": {},
     "output_type": "execute_result"
    }
   ],
   "source": [
    "my_iter.__next__()"
   ]
  },
  {
   "cell_type": "code",
   "execution_count": 27,
   "id": "083dcb7b",
   "metadata": {},
   "outputs": [
    {
     "data": {
      "text/plain": [
       "1"
      ]
     },
     "execution_count": 27,
     "metadata": {},
     "output_type": "execute_result"
    }
   ],
   "source": [
    "my_iter.__next__()"
   ]
  },
  {
   "cell_type": "code",
   "execution_count": 28,
   "id": "f47ea40f",
   "metadata": {},
   "outputs": [
    {
     "data": {
      "text/plain": [
       "8"
      ]
     },
     "execution_count": 28,
     "metadata": {},
     "output_type": "execute_result"
    }
   ],
   "source": [
    "my_iter.__next__()"
   ]
  },
  {
   "cell_type": "code",
   "execution_count": 29,
   "id": "bbeb20a7",
   "metadata": {},
   "outputs": [
    {
     "data": {
      "text/plain": [
       "27"
      ]
     },
     "execution_count": 29,
     "metadata": {},
     "output_type": "execute_result"
    }
   ],
   "source": [
    "my_iter.__next__()"
   ]
  },
  {
   "cell_type": "code",
   "execution_count": 30,
   "id": "2be3a2c1",
   "metadata": {},
   "outputs": [
    {
     "data": {
      "text/plain": [
       "64"
      ]
     },
     "execution_count": 30,
     "metadata": {},
     "output_type": "execute_result"
    }
   ],
   "source": [
    "my_iter.__next__()"
   ]
  },
  {
   "cell_type": "code",
   "execution_count": 31,
   "id": "888d6a20",
   "metadata": {},
   "outputs": [
    {
     "data": {
      "text/plain": [
       "125"
      ]
     },
     "execution_count": 31,
     "metadata": {},
     "output_type": "execute_result"
    }
   ],
   "source": [
    "my_iter.__next__()"
   ]
  },
  {
   "cell_type": "code",
   "execution_count": 32,
   "id": "d47a2a89",
   "metadata": {},
   "outputs": [
    {
     "ename": "StopIteration",
     "evalue": "",
     "output_type": "error",
     "traceback": [
      "\u001b[0;31m---------------------------------------------------------------------------\u001b[0m",
      "\u001b[0;31mStopIteration\u001b[0m                             Traceback (most recent call last)",
      "\u001b[0;32m<ipython-input-32-56d779eb7d74>\u001b[0m in \u001b[0;36m<module>\u001b[0;34m\u001b[0m\n\u001b[0;32m----> 1\u001b[0;31m \u001b[0mmy_iter\u001b[0m\u001b[0;34m.\u001b[0m\u001b[0m__next__\u001b[0m\u001b[0;34m(\u001b[0m\u001b[0;34m)\u001b[0m\u001b[0;34m\u001b[0m\u001b[0;34m\u001b[0m\u001b[0m\n\u001b[0m",
      "\u001b[0;32m<ipython-input-21-5f3b4bdd8d50>\u001b[0m in \u001b[0;36m__next__\u001b[0;34m(self)\u001b[0m\n\u001b[1;32m     13\u001b[0m             \u001b[0;32mreturn\u001b[0m \u001b[0mresult\u001b[0m\u001b[0;34m\u001b[0m\u001b[0;34m\u001b[0m\u001b[0m\n\u001b[1;32m     14\u001b[0m         \u001b[0;32melse\u001b[0m\u001b[0;34m:\u001b[0m\u001b[0;34m\u001b[0m\u001b[0;34m\u001b[0m\u001b[0m\n\u001b[0;32m---> 15\u001b[0;31m             \u001b[0;32mraise\u001b[0m \u001b[0mStopIteration\u001b[0m\u001b[0;34m\u001b[0m\u001b[0;34m\u001b[0m\u001b[0m\n\u001b[0m",
      "\u001b[0;31mStopIteration\u001b[0m: "
     ]
    }
   ],
   "source": [
    "my_iter.__next__()"
   ]
  },
  {
   "cell_type": "code",
   "execution_count": 33,
   "id": "fa939661",
   "metadata": {},
   "outputs": [
    {
     "name": "stdout",
     "output_type": "stream",
     "text": [
      "0\n",
      "1\n",
      "8\n",
      "27\n",
      "64\n",
      "125\n"
     ]
    }
   ],
   "source": [
    "for ele in cn:\n",
    "    print(ele)"
   ]
  },
  {
   "cell_type": "code",
   "execution_count": null,
   "id": "3d74c8ed",
   "metadata": {},
   "outputs": [],
   "source": []
  },
  {
   "cell_type": "code",
   "execution_count": null,
   "id": "83cd168e",
   "metadata": {},
   "outputs": [],
   "source": []
  },
  {
   "cell_type": "code",
   "execution_count": null,
   "id": "99d90c82",
   "metadata": {},
   "outputs": [],
   "source": []
  },
  {
   "cell_type": "code",
   "execution_count": null,
   "id": "58ce0787",
   "metadata": {},
   "outputs": [],
   "source": []
  }
 ],
 "metadata": {
  "kernelspec": {
   "display_name": "Python 3",
   "language": "python",
   "name": "python3"
  },
  "language_info": {
   "codemirror_mode": {
    "name": "ipython",
    "version": 3
   },
   "file_extension": ".py",
   "mimetype": "text/x-python",
   "name": "python",
   "nbconvert_exporter": "python",
   "pygments_lexer": "ipython3",
   "version": "3.8.8"
  }
 },
 "nbformat": 4,
 "nbformat_minor": 5
}
