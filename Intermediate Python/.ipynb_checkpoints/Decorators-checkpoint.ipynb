{
 "cells": [
  {
   "cell_type": "markdown",
   "id": "7fc064a9",
   "metadata": {},
   "source": [
    "# Higher order functions\n",
    "\n",
    "- Everything in Python is object, including functions.\n",
    "- functions that take other functions as arguments are also called higher order functions."
   ]
  },
  {
   "cell_type": "code",
   "execution_count": 1,
   "id": "83a50c6f",
   "metadata": {},
   "outputs": [],
   "source": [
    "def add(ele): return ele + 1\n",
    "\n",
    "def sub(ele): return ele - 1"
   ]
  },
  {
   "cell_type": "code",
   "execution_count": 2,
   "id": "32c11d08",
   "metadata": {},
   "outputs": [],
   "source": [
    "def calculator(operator, number):\n",
    "    result = operator(number)\n",
    "    return result"
   ]
  },
  {
   "cell_type": "code",
   "execution_count": 5,
   "id": "76fe7785",
   "metadata": {},
   "outputs": [],
   "source": [
    "add??"
   ]
  },
  {
   "cell_type": "code",
   "execution_count": 6,
   "id": "845d8156",
   "metadata": {},
   "outputs": [
    {
     "data": {
      "text/plain": [
       "6"
      ]
     },
     "execution_count": 6,
     "metadata": {},
     "output_type": "execute_result"
    }
   ],
   "source": [
    "calculator(add, 5)"
   ]
  },
  {
   "cell_type": "code",
   "execution_count": 7,
   "id": "cd98edf5",
   "metadata": {},
   "outputs": [
    {
     "data": {
      "text/plain": [
       "8"
      ]
     },
     "execution_count": 7,
     "metadata": {},
     "output_type": "execute_result"
    }
   ],
   "source": [
    "calculator(sub, 9)"
   ]
  },
  {
   "cell_type": "code",
   "execution_count": null,
   "id": "3484e581",
   "metadata": {},
   "outputs": [],
   "source": []
  },
  {
   "cell_type": "code",
   "execution_count": null,
   "id": "e24928ed",
   "metadata": {},
   "outputs": [],
   "source": []
  },
  {
   "cell_type": "markdown",
   "id": "d70c991f",
   "metadata": {},
   "source": [
    "# Python Decorators\n",
    "\n",
    "- A decorator takes a function as arguments, adds some functionality to the exisiting code and returns a function.\n",
    "\n",
    "\n",
    "<img src=\"https://media.giphy.com/media/73Y6EEJqbyGovenlLE/giphy.gif\" wdith=300>"
   ]
  },
  {
   "cell_type": "code",
   "execution_count": 8,
   "id": "01e107ff",
   "metadata": {},
   "outputs": [],
   "source": [
    "def basic():\n",
    "    print(\"I am a very basic function.\")"
   ]
  },
  {
   "cell_type": "code",
   "execution_count": 9,
   "id": "a1c2a7c6",
   "metadata": {},
   "outputs": [
    {
     "name": "stdout",
     "output_type": "stream",
     "text": [
      "I am a very basic function.\n"
     ]
    }
   ],
   "source": [
    "basic()"
   ]
  },
  {
   "cell_type": "code",
   "execution_count": 10,
   "id": "91edd9ec",
   "metadata": {},
   "outputs": [],
   "source": [
    "def add_features(func):\n",
    "    def wrapper():\n",
    "        print(\"=\"*30)\n",
    "        print(\"A new feature is added\")\n",
    "        print(\"=\"*30)\n",
    "        func()\n",
    "    return wrapper"
   ]
  },
  {
   "cell_type": "code",
   "execution_count": 11,
   "id": "da51b729",
   "metadata": {},
   "outputs": [],
   "source": [
    "basic??"
   ]
  },
  {
   "cell_type": "code",
   "execution_count": 13,
   "id": "df948244",
   "metadata": {},
   "outputs": [],
   "source": [
    "new_func = add_features(basic)"
   ]
  },
  {
   "cell_type": "code",
   "execution_count": 15,
   "id": "b5b0d63d",
   "metadata": {},
   "outputs": [
    {
     "name": "stdout",
     "output_type": "stream",
     "text": [
      "==============================\n",
      "A new feature is added\n",
      "==============================\n",
      "I am a very basic function.\n"
     ]
    }
   ],
   "source": [
    "new_func()"
   ]
  },
  {
   "cell_type": "markdown",
   "id": "aae47184",
   "metadata": {},
   "source": [
    "We can see that the decorator function added some new functionality to the original function. This is similar to packing a gift. The decorator acts as a wrapper."
   ]
  },
  {
   "cell_type": "code",
   "execution_count": null,
   "id": "ac5bb12f",
   "metadata": {},
   "outputs": [],
   "source": []
  },
  {
   "cell_type": "markdown",
   "id": "c38c3f0e",
   "metadata": {},
   "source": [
    "# The Decorative call...\n",
    "- We can use the @ symbol along with the name of the decorator function and place it above the definition of the function to be decorated. "
   ]
  },
  {
   "cell_type": "code",
   "execution_count": 27,
   "id": "03337227",
   "metadata": {},
   "outputs": [],
   "source": [
    "@add_features\n",
    "def new_basic():\n",
    "    print(\"I am also a simple function\")"
   ]
  },
  {
   "cell_type": "code",
   "execution_count": 28,
   "id": "c6a39fdf",
   "metadata": {},
   "outputs": [
    {
     "name": "stdout",
     "output_type": "stream",
     "text": [
      "==============================\n",
      "A new feature is added\n",
      "==============================\n",
      "I am also a simple function\n"
     ]
    }
   ],
   "source": [
    "new_basic()"
   ]
  },
  {
   "cell_type": "code",
   "execution_count": null,
   "id": "1bb1df2b",
   "metadata": {},
   "outputs": [],
   "source": []
  },
  {
   "cell_type": "code",
   "execution_count": null,
   "id": "7586414e",
   "metadata": {},
   "outputs": [],
   "source": []
  },
  {
   "cell_type": "markdown",
   "id": "26a81075",
   "metadata": {},
   "source": [
    "# Decorating Function with parameters"
   ]
  },
  {
   "cell_type": "code",
   "execution_count": 32,
   "id": "78d24a4d",
   "metadata": {},
   "outputs": [],
   "source": [
    "DB = {\n",
    "    'mohit' : 'mohit@123',\n",
    "    'prateek': 'prateek@123'\n",
    "}"
   ]
  },
  {
   "cell_type": "code",
   "execution_count": 44,
   "id": "dd95f14d",
   "metadata": {},
   "outputs": [],
   "source": [
    "def login(func):\n",
    "    def wrapper(username, password, *args, **kwargs):\n",
    "        if username in DB and DB[username] == password:\n",
    "            # successful\n",
    "            func(*args, **kwargs)\n",
    "        else:\n",
    "            print(\"Authentication failed\")\n",
    "            \n",
    "    return wrapper"
   ]
  },
  {
   "cell_type": "code",
   "execution_count": 51,
   "id": "12e30d4c",
   "metadata": {},
   "outputs": [],
   "source": [
    "@login\n",
    "def add(a,b):\n",
    "    print(a+b)"
   ]
  },
  {
   "cell_type": "code",
   "execution_count": 48,
   "id": "5d1a0e38",
   "metadata": {},
   "outputs": [
    {
     "name": "stdout",
     "output_type": "stream",
     "text": [
      "15\n"
     ]
    }
   ],
   "source": [
    "add(\"prateek\", \"prateek@123\", 5,10)"
   ]
  },
  {
   "cell_type": "code",
   "execution_count": 52,
   "id": "24a406f4",
   "metadata": {},
   "outputs": [
    {
     "name": "stdout",
     "output_type": "stream",
     "text": [
      "Authentication failed\n"
     ]
    }
   ],
   "source": [
    "add(5, 6)"
   ]
  },
  {
   "cell_type": "code",
   "execution_count": null,
   "id": "92923e66",
   "metadata": {},
   "outputs": [],
   "source": []
  },
  {
   "cell_type": "code",
   "execution_count": null,
   "id": "0f7c1043",
   "metadata": {},
   "outputs": [],
   "source": []
  },
  {
   "cell_type": "code",
   "execution_count": null,
   "id": "f99ce1c9",
   "metadata": {},
   "outputs": [],
   "source": []
  },
  {
   "cell_type": "markdown",
   "id": "15b0c472",
   "metadata": {},
   "source": [
    "## Chaining Decorators in Python\n",
    "- Multiple decorators can be chained in Python.\n",
    "- A function can be decorated multiple times with different decorators."
   ]
  },
  {
   "cell_type": "code",
   "execution_count": 56,
   "id": "a99f3711",
   "metadata": {},
   "outputs": [],
   "source": [
    "# decorator function\n",
    "def star(func):\n",
    "    def wrapper(*args, **kwargs):\n",
    "        print(\"*\"*30)\n",
    "        func(*args, **kwargs)\n",
    "        print(\"*\"*30)\n",
    "    return wrapper"
   ]
  },
  {
   "cell_type": "code",
   "execution_count": 61,
   "id": "2f806876",
   "metadata": {},
   "outputs": [],
   "source": [
    "# decorator function\n",
    "def dollar(func):\n",
    "    def wrapper(*args, **kwargs):\n",
    "        print(\"$\"*30)\n",
    "        func(*args, **kwargs)\n",
    "        print(\"$\"*30)\n",
    "    return wrapper"
   ]
  },
  {
   "cell_type": "code",
   "execution_count": 62,
   "id": "b27d958d",
   "metadata": {},
   "outputs": [],
   "source": [
    "@dollar\n",
    "@star\n",
    "def main(message):\n",
    "    print(message)"
   ]
  },
  {
   "cell_type": "code",
   "execution_count": 63,
   "id": "070be582",
   "metadata": {},
   "outputs": [
    {
     "name": "stdout",
     "output_type": "stream",
     "text": [
      "$$$$$$$$$$$$$$$$$$$$$$$$$$$$$$\n",
      "******************************\n",
      "Hello world\n",
      "******************************\n",
      "$$$$$$$$$$$$$$$$$$$$$$$$$$$$$$\n"
     ]
    }
   ],
   "source": [
    "main(\"Hello world\")"
   ]
  },
  {
   "cell_type": "code",
   "execution_count": null,
   "id": "62d4bf11",
   "metadata": {},
   "outputs": [],
   "source": []
  },
  {
   "cell_type": "markdown",
   "id": "a2156dee",
   "metadata": {},
   "source": [
    "<img src=\"https://media.giphy.com/media/3oEjHQOeg3YhQ8REZ2/giphy.gif\" width=300>"
   ]
  },
  {
   "cell_type": "code",
   "execution_count": null,
   "id": "d28597cf",
   "metadata": {},
   "outputs": [],
   "source": []
  },
  {
   "cell_type": "code",
   "execution_count": null,
   "id": "8918c729",
   "metadata": {},
   "outputs": [],
   "source": []
  },
  {
   "cell_type": "code",
   "execution_count": null,
   "id": "cf5026c2",
   "metadata": {},
   "outputs": [],
   "source": []
  },
  {
   "cell_type": "code",
   "execution_count": null,
   "id": "cea2914f",
   "metadata": {},
   "outputs": [],
   "source": []
  },
  {
   "cell_type": "code",
   "execution_count": null,
   "id": "23f97fd8",
   "metadata": {},
   "outputs": [],
   "source": []
  },
  {
   "cell_type": "code",
   "execution_count": null,
   "id": "30d19da0",
   "metadata": {},
   "outputs": [],
   "source": []
  }
 ],
 "metadata": {
  "kernelspec": {
   "display_name": "Python 3",
   "language": "python",
   "name": "python3"
  },
  "language_info": {
   "codemirror_mode": {
    "name": "ipython",
    "version": 3
   },
   "file_extension": ".py",
   "mimetype": "text/x-python",
   "name": "python",
   "nbconvert_exporter": "python",
   "pygments_lexer": "ipython3",
   "version": "3.8.8"
  }
 },
 "nbformat": 4,
 "nbformat_minor": 5
}
