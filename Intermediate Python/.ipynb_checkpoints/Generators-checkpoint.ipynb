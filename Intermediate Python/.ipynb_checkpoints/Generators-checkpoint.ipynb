{
 "cells": [
  {
   "cell_type": "markdown",
   "id": "964ffaef",
   "metadata": {},
   "source": [
    "# Python Generators\n",
    "\n",
    "\n",
    "<img src=\"https://media.giphy.com/media/l0MYwrucQ9amOkFHO/giphy.gif\" width = 400>\n",
    "\n",
    "- Python generator is kind of a function only. It generates a sequence of values that we can iterate on.\n",
    "- Unlike functions, generators doesn't terminate after returning a value.\n",
    "- **yield** keyword is used in Generators.\n",
    "- Like a list or a tuple, Generator is also an iterable.\n",
    "\n"
   ]
  },
  {
   "cell_type": "code",
   "execution_count": 1,
   "id": "acd2b7fa",
   "metadata": {},
   "outputs": [],
   "source": [
    "def my_generator():\n",
    "    n = 1\n",
    "    \n",
    "    print(\"First time\")\n",
    "    yield n\n",
    "    \n",
    "    n+=1\n",
    "    \n",
    "    print(\"Second time\")\n",
    "    yield n\n",
    "    \n",
    "    n+=1\n",
    "    \n",
    "    print(\"Third time\")\n",
    "    yield n"
   ]
  },
  {
   "cell_type": "code",
   "execution_count": 3,
   "id": "aa967da3",
   "metadata": {},
   "outputs": [],
   "source": [
    "my_gen = my_generator()"
   ]
  },
  {
   "cell_type": "code",
   "execution_count": 4,
   "id": "a5bc63bb",
   "metadata": {},
   "outputs": [
    {
     "data": {
      "text/plain": [
       "generator"
      ]
     },
     "execution_count": 4,
     "metadata": {},
     "output_type": "execute_result"
    }
   ],
   "source": [
    "type(my_gen)"
   ]
  },
  {
   "cell_type": "code",
   "execution_count": 5,
   "id": "1763a710",
   "metadata": {},
   "outputs": [
    {
     "name": "stdout",
     "output_type": "stream",
     "text": [
      "First time\n"
     ]
    },
    {
     "data": {
      "text/plain": [
       "1"
      ]
     },
     "execution_count": 5,
     "metadata": {},
     "output_type": "execute_result"
    }
   ],
   "source": [
    "next(my_gen)"
   ]
  },
  {
   "cell_type": "code",
   "execution_count": 6,
   "id": "765f769b",
   "metadata": {},
   "outputs": [
    {
     "name": "stdout",
     "output_type": "stream",
     "text": [
      "Second time\n"
     ]
    },
    {
     "data": {
      "text/plain": [
       "2"
      ]
     },
     "execution_count": 6,
     "metadata": {},
     "output_type": "execute_result"
    }
   ],
   "source": [
    "next(my_gen)"
   ]
  },
  {
   "cell_type": "code",
   "execution_count": 7,
   "id": "e16f03bf",
   "metadata": {},
   "outputs": [
    {
     "name": "stdout",
     "output_type": "stream",
     "text": [
      "Third time\n"
     ]
    },
    {
     "data": {
      "text/plain": [
       "3"
      ]
     },
     "execution_count": 7,
     "metadata": {},
     "output_type": "execute_result"
    }
   ],
   "source": [
    "next(my_gen)"
   ]
  },
  {
   "cell_type": "code",
   "execution_count": 8,
   "id": "16964d57",
   "metadata": {},
   "outputs": [
    {
     "ename": "StopIteration",
     "evalue": "",
     "output_type": "error",
     "traceback": [
      "\u001b[0;31m---------------------------------------------------------------------------\u001b[0m",
      "\u001b[0;31mStopIteration\u001b[0m                             Traceback (most recent call last)",
      "\u001b[0;32m<ipython-input-8-78dc05d55b31>\u001b[0m in \u001b[0;36m<module>\u001b[0;34m\u001b[0m\n\u001b[0;32m----> 1\u001b[0;31m \u001b[0mnext\u001b[0m\u001b[0;34m(\u001b[0m\u001b[0mmy_gen\u001b[0m\u001b[0;34m)\u001b[0m\u001b[0;34m\u001b[0m\u001b[0;34m\u001b[0m\u001b[0m\n\u001b[0m",
      "\u001b[0;31mStopIteration\u001b[0m: "
     ]
    }
   ],
   "source": [
    "next(my_gen)"
   ]
  },
  {
   "cell_type": "code",
   "execution_count": null,
   "id": "b54fce3f",
   "metadata": {},
   "outputs": [],
   "source": []
  },
  {
   "cell_type": "markdown",
   "id": "19a507cc",
   "metadata": {},
   "source": [
    "## Return vs. Yield\n",
    "- **yield** returns a value and pauses the execution while maintaining the internal states.\n",
    "- **return** statement returns a value and terminates the execution of the function.\n",
    "\n",
    "\n",
    "- When a generator is called, it returns an object (iterator) but does not start execution immediately.\n",
    "- Local variables and their states are remembered between successive calls.\n",
    "\n",
    "<img src=\"https://media.giphy.com/media/EmMWgjxt6HqXC/giphy.gif\" width = 400>"
   ]
  },
  {
   "cell_type": "code",
   "execution_count": 13,
   "id": "15a13fc8",
   "metadata": {},
   "outputs": [],
   "source": [
    "def counter_func(n):\n",
    "    i = 1\n",
    "    while (i <= n):\n",
    "        return i\n",
    "        i+=1"
   ]
  },
  {
   "cell_type": "code",
   "execution_count": 18,
   "id": "70f40b6d",
   "metadata": {},
   "outputs": [
    {
     "data": {
      "text/plain": [
       "1"
      ]
     },
     "execution_count": 18,
     "metadata": {},
     "output_type": "execute_result"
    }
   ],
   "source": [
    "counter_func(4)"
   ]
  },
  {
   "cell_type": "code",
   "execution_count": 19,
   "id": "1f0a5f9c",
   "metadata": {},
   "outputs": [],
   "source": [
    "def counter_gen(n):\n",
    "    i = 1\n",
    "    while (i <= n):\n",
    "        yield i\n",
    "        i+=1"
   ]
  },
  {
   "cell_type": "code",
   "execution_count": 21,
   "id": "deb0ee78",
   "metadata": {},
   "outputs": [],
   "source": [
    "gen = counter_gen(5)"
   ]
  },
  {
   "cell_type": "code",
   "execution_count": 22,
   "id": "c47406f9",
   "metadata": {},
   "outputs": [
    {
     "data": {
      "text/plain": [
       "1"
      ]
     },
     "execution_count": 22,
     "metadata": {},
     "output_type": "execute_result"
    }
   ],
   "source": [
    "next(gen)"
   ]
  },
  {
   "cell_type": "code",
   "execution_count": 23,
   "id": "07d0a5d0",
   "metadata": {},
   "outputs": [
    {
     "data": {
      "text/plain": [
       "2"
      ]
     },
     "execution_count": 23,
     "metadata": {},
     "output_type": "execute_result"
    }
   ],
   "source": [
    "next(gen)"
   ]
  },
  {
   "cell_type": "code",
   "execution_count": 24,
   "id": "29082f95",
   "metadata": {},
   "outputs": [
    {
     "data": {
      "text/plain": [
       "3"
      ]
     },
     "execution_count": 24,
     "metadata": {},
     "output_type": "execute_result"
    }
   ],
   "source": [
    "next(gen)"
   ]
  },
  {
   "cell_type": "code",
   "execution_count": 25,
   "id": "7dbb884f",
   "metadata": {},
   "outputs": [
    {
     "data": {
      "text/plain": [
       "4"
      ]
     },
     "execution_count": 25,
     "metadata": {},
     "output_type": "execute_result"
    }
   ],
   "source": [
    "next(gen)"
   ]
  },
  {
   "cell_type": "code",
   "execution_count": 26,
   "id": "a7c9bb53",
   "metadata": {},
   "outputs": [
    {
     "data": {
      "text/plain": [
       "5"
      ]
     },
     "execution_count": 26,
     "metadata": {},
     "output_type": "execute_result"
    }
   ],
   "source": [
    "next(gen)"
   ]
  },
  {
   "cell_type": "code",
   "execution_count": 27,
   "id": "65e89701",
   "metadata": {},
   "outputs": [
    {
     "ename": "StopIteration",
     "evalue": "",
     "output_type": "error",
     "traceback": [
      "\u001b[0;31m---------------------------------------------------------------------------\u001b[0m",
      "\u001b[0;31mStopIteration\u001b[0m                             Traceback (most recent call last)",
      "\u001b[0;32m<ipython-input-27-6e72e47198db>\u001b[0m in \u001b[0;36m<module>\u001b[0;34m\u001b[0m\n\u001b[0;32m----> 1\u001b[0;31m \u001b[0mnext\u001b[0m\u001b[0;34m(\u001b[0m\u001b[0mgen\u001b[0m\u001b[0;34m)\u001b[0m\u001b[0;34m\u001b[0m\u001b[0;34m\u001b[0m\u001b[0m\n\u001b[0m",
      "\u001b[0;31mStopIteration\u001b[0m: "
     ]
    }
   ],
   "source": [
    "next(gen)"
   ]
  },
  {
   "cell_type": "code",
   "execution_count": null,
   "id": "133e54f4",
   "metadata": {},
   "outputs": [],
   "source": []
  },
  {
   "cell_type": "code",
   "execution_count": null,
   "id": "cc102b15",
   "metadata": {},
   "outputs": [],
   "source": []
  },
  {
   "cell_type": "markdown",
   "id": "d485b206",
   "metadata": {},
   "source": [
    "## Generator with a loop\n",
    "\n",
    "- We can use the for loop to traverse the elements over the generator. \n",
    "- The next() function is called implicitly and the StopIteration is also automatically taken care of."
   ]
  },
  {
   "cell_type": "code",
   "execution_count": 29,
   "id": "ef4bc0ab",
   "metadata": {},
   "outputs": [
    {
     "name": "stdout",
     "output_type": "stream",
     "text": [
      "1\n",
      "2\n",
      "3\n",
      "4\n",
      "5\n"
     ]
    }
   ],
   "source": [
    "for ele in counter_gen(5):\n",
    "    print(ele)"
   ]
  },
  {
   "cell_type": "code",
   "execution_count": 32,
   "id": "22b50da2",
   "metadata": {},
   "outputs": [],
   "source": [
    "def reverse_string(string):\n",
    "    for i in range(len(string)-1, -1, -1):\n",
    "        yield string[i]"
   ]
  },
  {
   "cell_type": "code",
   "execution_count": 33,
   "id": "50d0df75",
   "metadata": {},
   "outputs": [
    {
     "name": "stdout",
     "output_type": "stream",
     "text": [
      "t\n",
      "i\n",
      "h\n",
      "o\n",
      "M\n"
     ]
    }
   ],
   "source": [
    "for ele in reverse_string(\"Mohit\"):\n",
    "    print(ele)"
   ]
  },
  {
   "cell_type": "code",
   "execution_count": null,
   "id": "5aa71e7c",
   "metadata": {},
   "outputs": [],
   "source": []
  },
  {
   "cell_type": "code",
   "execution_count": null,
   "id": "a9735ae3",
   "metadata": {},
   "outputs": [],
   "source": []
  },
  {
   "cell_type": "markdown",
   "id": "2ad2a03f",
   "metadata": {},
   "source": [
    "# Generator Expressions"
   ]
  },
  {
   "cell_type": "markdown",
   "id": "dae34857",
   "metadata": {},
   "source": [
    "- Python also provides a generator expression, which is a shorter way of defining simple generator functions. The generator expression is an anonymous generator function.\n",
    "\n",
    "\n",
    "- The major difference between a list comprehension and a generator expression is that a list comprehension produces the entire list while the generator expression produces one item at a time.\n",
    "\n",
    "\n",
    "- They have lazy execution ( producing items only when asked for ). For this reason, a generator expression is much more memory efficient than an equivalent list comprehension.\n"
   ]
  },
  {
   "cell_type": "markdown",
   "id": "1ad2cd71",
   "metadata": {},
   "source": [
    "#### Advantage\n",
    "- Memory efficient\n",
    "- Represent Infinite Stream"
   ]
  },
  {
   "cell_type": "code",
   "execution_count": 54,
   "id": "ab654f67",
   "metadata": {},
   "outputs": [],
   "source": [
    "squares_list = [i**2 for i in range(1000000) if i%2==0]"
   ]
  },
  {
   "cell_type": "code",
   "execution_count": 55,
   "id": "802edef1",
   "metadata": {},
   "outputs": [],
   "source": [
    "squares_gen = (i**2 for i in range(1000000) if i%2==0)"
   ]
  },
  {
   "cell_type": "code",
   "execution_count": 56,
   "id": "d95b7a79",
   "metadata": {},
   "outputs": [
    {
     "name": "stdout",
     "output_type": "stream",
     "text": [
      "0\n",
      "4\n",
      "16\n",
      "36\n",
      "64\n",
      "100\n",
      "144\n",
      "196\n",
      "256\n",
      "324\n"
     ]
    }
   ],
   "source": [
    "idx = 0\n",
    "for i in squares_gen:\n",
    "    if idx == 10:\n",
    "        break\n",
    "    print(i)\n",
    "    idx +=1"
   ]
  },
  {
   "cell_type": "code",
   "execution_count": 57,
   "id": "65910975",
   "metadata": {},
   "outputs": [
    {
     "name": "stdout",
     "output_type": "stream",
     "text": [
      "0\n",
      "4\n",
      "16\n",
      "36\n",
      "64\n",
      "100\n",
      "144\n",
      "196\n",
      "256\n",
      "324\n"
     ]
    }
   ],
   "source": [
    "idx = 0\n",
    "for i in squares_list:\n",
    "    if idx == 10:\n",
    "        break\n",
    "    print(i)\n",
    "    idx +=1"
   ]
  },
  {
   "cell_type": "code",
   "execution_count": null,
   "id": "0954a925",
   "metadata": {},
   "outputs": [],
   "source": []
  },
  {
   "cell_type": "code",
   "execution_count": null,
   "id": "0aa1a9f2",
   "metadata": {},
   "outputs": [],
   "source": []
  },
  {
   "cell_type": "code",
   "execution_count": null,
   "id": "1284b3ca",
   "metadata": {},
   "outputs": [],
   "source": []
  },
  {
   "cell_type": "code",
   "execution_count": null,
   "id": "811dc053",
   "metadata": {},
   "outputs": [],
   "source": []
  },
  {
   "cell_type": "code",
   "execution_count": null,
   "id": "2068cbb5",
   "metadata": {},
   "outputs": [],
   "source": []
  }
 ],
 "metadata": {
  "kernelspec": {
   "display_name": "Python 3",
   "language": "python",
   "name": "python3"
  },
  "language_info": {
   "codemirror_mode": {
    "name": "ipython",
    "version": 3
   },
   "file_extension": ".py",
   "mimetype": "text/x-python",
   "name": "python",
   "nbconvert_exporter": "python",
   "pygments_lexer": "ipython3",
   "version": "3.8.8"
  }
 },
 "nbformat": 4,
 "nbformat_minor": 5
}
